{
 "cells": [
  {
   "cell_type": "markdown",
   "metadata": {},
   "source": [
    "# Hyperparameter Tuning Demo using Keras Tuner\n",
    "\n",
    "by Cedric Conol\n",
    "\n",
    "Notebook from the article: [Hyperparameter Tuning with Keras Tuner](https://towardsdatascience.com/hyperparameter-tuning-with-keras-tuner-283474fbfbe)"
   ]
  },
  {
   "cell_type": "markdown",
   "metadata": {},
   "source": [
    "### Load the data"
   ]
  },
  {
   "cell_type": "code",
   "execution_count": 1,
   "metadata": {
    "ExecuteTime": {
     "end_time": "2020-04-30T08:24:29.610903Z",
     "start_time": "2020-04-30T08:24:29.598132Z"
    }
   },
   "outputs": [
    {
     "name": "stdout",
     "output_type": "stream",
     "text": [
      "Downloading data from https://storage.googleapis.com/tensorflow/tf-keras-datasets/boston_housing.npz\n",
      "57344/57026 [==============================] - 0s 1us/step\n"
     ]
    }
   ],
   "source": [
    "from tensorflow.keras.datasets import boston_housing\n",
    "\n",
    "(x_train, y_train), (x_test, y_test) = boston_housing.load_data()"
   ]
  },
  {
   "cell_type": "markdown",
   "metadata": {},
   "source": [
    "### Check tensorflow and kerastuner versions"
   ]
  },
  {
   "cell_type": "code",
   "execution_count": 3,
   "metadata": {
    "ExecuteTime": {
     "end_time": "2020-05-02T21:06:46.623899Z",
     "start_time": "2020-05-02T21:06:46.612411Z"
    }
   },
   "outputs": [
    {
     "name": "stdout",
     "output_type": "stream",
     "text": [
      "2.4.1\n",
      "1.0.2\n"
     ]
    }
   ],
   "source": [
    "import tensorflow as tf\n",
    "import kerastuner as kt\n",
    "\n",
    "print(tf.__version__)\n",
    "print(kt.__version__)"
   ]
  },
  {
   "cell_type": "markdown",
   "metadata": {},
   "source": [
    "### Import libraries"
   ]
  },
  {
   "cell_type": "code",
   "execution_count": 17,
   "metadata": {
    "ExecuteTime": {
     "end_time": "2020-05-02T21:02:28.374620Z",
     "start_time": "2020-05-02T21:02:28.369314Z"
    }
   },
   "outputs": [],
   "source": [
    "from sklearn.preprocessing import StandardScaler\n",
    "from tensorflow.keras import models, layers\n",
    "from kerastuner import HyperModel, RandomSearch, Hyperband, BayesianOptimization\n",
    "from keras.models import Sequential # Own addition\n",
    "import os # Own addition"
   ]
  },
  {
   "cell_type": "markdown",
   "metadata": {},
   "source": [
    "### Set random seeed"
   ]
  },
  {
   "cell_type": "code",
   "execution_count": 5,
   "metadata": {
    "ExecuteTime": {
     "end_time": "2020-04-30T08:24:58.569282Z",
     "start_time": "2020-04-30T08:24:58.556076Z"
    }
   },
   "outputs": [],
   "source": [
    "from numpy.random import seed\n",
    "seed(42)\n",
    "import tensorflow\n",
    "tensorflow.random.set_seed(42)"
   ]
  },
  {
   "cell_type": "markdown",
   "metadata": {},
   "source": [
    "### Model without Hyperparameter Tuning"
   ]
  },
  {
   "cell_type": "code",
   "execution_count": 6,
   "metadata": {
    "ExecuteTime": {
     "end_time": "2020-05-02T21:05:24.510910Z",
     "start_time": "2020-05-02T21:05:24.438203Z"
    }
   },
   "outputs": [],
   "source": [
    "scaler = StandardScaler()\n",
    "scaler.fit(x_train)\n",
    "\n",
    "x_train_scaled = scaler.transform(x_train)\n",
    "x_test_scaled = scaler.transform(x_test)\n",
    "\n",
    "model = models.Sequential()\n",
    "model.add(layers.Dense(8, activation='relu', input_shape=(x_train.shape[1],),\n",
    "                       kernel_initializer='zeros', bias_initializer='zeros'))\n",
    "model.add(layers.Dense(16, activation='relu', kernel_initializer='zeros',\n",
    "                       bias_initializer='zeros'))\n",
    "model.add(layers.Dropout(0.1))\n",
    "model.add(layers.Dense(1))\n",
    "\n",
    "model.compile(optimizer='rmsprop',loss='mse',metrics=['mse'])"
   ]
  },
  {
   "cell_type": "code",
   "execution_count": 7,
   "metadata": {
    "ExecuteTime": {
     "end_time": "2020-05-02T21:05:25.887552Z",
     "start_time": "2020-05-02T21:05:24.849517Z"
    },
    "scrolled": true
   },
   "outputs": [
    {
     "name": "stdout",
     "output_type": "stream",
     "text": [
      "Epoch 1/10\n",
      "11/11 [==============================] - 3s 183ms/step - loss: 552.3023 - mse: 552.3023 - val_loss: 642.7367 - val_mse: 642.7367\n",
      "Epoch 2/10\n",
      "11/11 [==============================] - 0s 13ms/step - loss: 551.8933 - mse: 551.8933 - val_loss: 642.1722 - val_mse: 642.1722\n",
      "Epoch 3/10\n",
      "11/11 [==============================] - 0s 10ms/step - loss: 586.9997 - mse: 586.9997 - val_loss: 641.6613 - val_mse: 641.6613\n",
      "Epoch 4/10\n",
      "11/11 [==============================] - 0s 7ms/step - loss: 580.1702 - mse: 580.1702 - val_loss: 641.1359 - val_mse: 641.1359\n",
      "Epoch 5/10\n",
      "11/11 [==============================] - 0s 9ms/step - loss: 589.8893 - mse: 589.8893 - val_loss: 640.6212 - val_mse: 640.6212\n",
      "Epoch 6/10\n",
      "11/11 [==============================] - 0s 8ms/step - loss: 578.4940 - mse: 578.4940 - val_loss: 640.1004 - val_mse: 640.1004\n",
      "Epoch 7/10\n",
      "11/11 [==============================] - 0s 10ms/step - loss: 577.4522 - mse: 577.4522 - val_loss: 639.5798 - val_mse: 639.5798\n",
      "Epoch 8/10\n",
      "11/11 [==============================] - 0s 10ms/step - loss: 529.7645 - mse: 529.7645 - val_loss: 639.0512 - val_mse: 639.0512\n",
      "Epoch 9/10\n",
      "11/11 [==============================] - 0s 9ms/step - loss: 604.9899 - mse: 604.9899 - val_loss: 638.5443 - val_mse: 638.5443\n",
      "Epoch 10/10\n",
      "11/11 [==============================] - 0s 9ms/step - loss: 553.5711 - mse: 553.5711 - val_loss: 638.0418 - val_mse: 638.0418\n"
     ]
    }
   ],
   "source": [
    "history = model.fit(x_train_scaled, y_train, validation_split=0.2, epochs=10)"
   ]
  },
  {
   "cell_type": "code",
   "execution_count": 8,
   "metadata": {
    "ExecuteTime": {
     "end_time": "2020-05-02T21:06:58.506753Z",
     "start_time": "2020-05-02T21:06:58.446239Z"
    }
   },
   "outputs": [
    {
     "name": "stdout",
     "output_type": "stream",
     "text": [
      "4/4 [==============================] - 0s 2ms/step - loss: 610.3947 - mse: 610.3947\n"
     ]
    }
   ],
   "source": [
    "mse = model.evaluate(x_test_scaled, y_test)[1]"
   ]
  },
  {
   "cell_type": "code",
   "execution_count": 9,
   "metadata": {
    "ExecuteTime": {
     "end_time": "2020-05-02T21:07:27.321927Z",
     "start_time": "2020-05-02T21:07:27.313823Z"
    }
   },
   "outputs": [
    {
     "name": "stdout",
     "output_type": "stream",
     "text": [
      "MSE without tuning: 610.3947143554688\n"
     ]
    }
   ],
   "source": [
    "print('MSE without tuning: {}'.format(mse))"
   ]
  },
  {
   "cell_type": "markdown",
   "metadata": {},
   "source": [
    "### Building the Hypermodel"
   ]
  },
  {
   "cell_type": "code",
   "execution_count": 10,
   "metadata": {
    "ExecuteTime": {
     "end_time": "2020-05-02T21:08:23.997581Z",
     "start_time": "2020-05-02T21:08:23.980702Z"
    }
   },
   "outputs": [],
   "source": [
    "class RegressionHyperModel(HyperModel):\n",
    "    def __init__(self, input_shape):\n",
    "        self.input_shape = input_shape\n",
    "\n",
    "    def build(self, hp):\n",
    "        model = Sequential()\n",
    "        model.add(\n",
    "            layers.Dense(\n",
    "                units=hp.Int('units', 8, 64, 4, default=8),\n",
    "                activation=hp.Choice(\n",
    "                    'dense_activation',\n",
    "                    values=['relu', 'tanh', 'sigmoid'],\n",
    "                    default='relu'),\n",
    "                input_shape=input_shape,\n",
    "                kernel_initializer='zeros', bias_initializer='zeros'\n",
    "            )\n",
    "        )\n",
    "        \n",
    "        model.add(\n",
    "            layers.Dense(\n",
    "                units=hp.Int('units', 16, 64, 4, default=16),\n",
    "                activation=hp.Choice(\n",
    "                    'dense_activation',\n",
    "                    values=['relu', 'tanh', 'sigmoid'],\n",
    "                    default='relu'),\n",
    "                kernel_initializer='zeros', bias_initializer='zeros'\n",
    "            )\n",
    "        )\n",
    "        \n",
    "        model.add(\n",
    "            layers.Dropout(\n",
    "                hp.Float(\n",
    "                    'dropout',\n",
    "                    min_value=0.0,\n",
    "                    max_value=0.1,\n",
    "                    default=0.005,\n",
    "                    step=0.01)\n",
    "            )\n",
    "        )\n",
    "        \n",
    "        model.add(layers.Dense(1, kernel_initializer='zeros', bias_initializer='zeros'))\n",
    "        \n",
    "        model.compile(\n",
    "            optimizer='rmsprop',loss='mse',metrics=['mse']\n",
    "        )\n",
    "        \n",
    "        return model"
   ]
  },
  {
   "cell_type": "markdown",
   "metadata": {},
   "source": [
    "### Initialize hypermodel"
   ]
  },
  {
   "cell_type": "code",
   "execution_count": 11,
   "metadata": {
    "ExecuteTime": {
     "end_time": "2020-05-02T21:08:25.153572Z",
     "start_time": "2020-05-02T21:08:25.148289Z"
    }
   },
   "outputs": [],
   "source": [
    "input_shape = (x_train.shape[1],)\n",
    "hypermodel = RegressionHyperModel(input_shape)"
   ]
  },
  {
   "cell_type": "markdown",
   "metadata": {},
   "source": [
    "### Build Random Search Tuner"
   ]
  },
  {
   "cell_type": "code",
   "execution_count": 18,
   "metadata": {
    "ExecuteTime": {
     "end_time": "2020-05-02T21:08:26.210946Z",
     "start_time": "2020-05-02T21:08:25.978169Z"
    }
   },
   "outputs": [],
   "source": [
    "tuner_rs = RandomSearch(\n",
    "            hypermodel,\n",
    "            objective='mse',\n",
    "            seed=42,\n",
    "            max_trials=10,\n",
    "            executions_per_trial=2, overwrite=True,\n",
    "            directory=os.path.normpath('D:/ML_Keras_Tuner/Tests/RandomSearch_test') # Own addition, removes error\n",
    "        )"
   ]
  },
  {
   "cell_type": "markdown",
   "metadata": {},
   "source": [
    "### Run Random Search"
   ]
  },
  {
   "cell_type": "code",
   "execution_count": 19,
   "metadata": {
    "ExecuteTime": {
     "end_time": "2020-05-02T21:08:51.610609Z",
     "start_time": "2020-05-02T21:08:28.593385Z"
    },
    "scrolled": true
   },
   "outputs": [
    {
     "name": "stdout",
     "output_type": "stream",
     "text": [
      "INFO:tensorflow:Oracle triggered exit\n"
     ]
    }
   ],
   "source": [
    "tuner_rs.search(x_train_scaled, y_train, epochs=10, validation_split=0.2, verbose=0)"
   ]
  },
  {
   "cell_type": "markdown",
   "metadata": {},
   "source": [
    "### Evaluate Random Search"
   ]
  },
  {
   "cell_type": "code",
   "execution_count": 20,
   "metadata": {
    "ExecuteTime": {
     "end_time": "2020-05-02T21:09:03.713162Z",
     "start_time": "2020-05-02T21:09:03.369393Z"
    }
   },
   "outputs": [
    {
     "name": "stdout",
     "output_type": "stream",
     "text": [
      "4/4 [==============================] - 0s 1ms/step - loss: 533.3783 - mse: 533.3783\n"
     ]
    }
   ],
   "source": [
    "best_model = tuner_rs.get_best_models(num_models=1)[0]\n",
    "mse_rs = best_model.evaluate(x_test_scaled, y_test)[1]"
   ]
  },
  {
   "cell_type": "code",
   "execution_count": 21,
   "metadata": {
    "ExecuteTime": {
     "end_time": "2020-05-02T21:09:42.166321Z",
     "start_time": "2020-05-02T21:09:42.154977Z"
    }
   },
   "outputs": [
    {
     "name": "stdout",
     "output_type": "stream",
     "text": [
      "Random search MSE:  561.71337890625\n"
     ]
    }
   ],
   "source": [
    "print('Random search MSE: ', mse_rs)"
   ]
  },
  {
   "cell_type": "markdown",
   "metadata": {},
   "source": [
    "### Build, Run and Evaluate Hyperband Tuner"
   ]
  },
  {
   "cell_type": "code",
   "execution_count": 24,
   "metadata": {
    "ExecuteTime": {
     "end_time": "2020-05-02T21:10:39.154589Z",
     "start_time": "2020-05-02T21:10:38.588470Z"
    },
    "scrolled": true
   },
   "outputs": [
    {
     "name": "stdout",
     "output_type": "stream",
     "text": [
      "INFO:tensorflow:Oracle triggered exit\n",
      "4/4 [==============================] - 0s 2ms/step - loss: 560.8518 - mse: 560.8518\n"
     ]
    }
   ],
   "source": [
    "tuner_hb = Hyperband(\n",
    "            hypermodel,\n",
    "            max_epochs=5,\n",
    "            objective='mse',\n",
    "            seed=42,\n",
    "            executions_per_trial=2,\n",
    "            directory=os.path.normpath('D:/ML_Keras_Tuner/Tests/Hyperband_test') # Own addition, removes error\n",
    "        )\n",
    "\n",
    "tuner_hb.search(x_train_scaled, y_train, epochs=10, validation_split=0.2, verbose=0)\n",
    "\n",
    "best_model = tuner_hb.get_best_models(num_models=1)[0]\n",
    "mse_hb = best_model.evaluate(x_test_scaled, y_test)[1]"
   ]
  },
  {
   "cell_type": "code",
   "execution_count": 25,
   "metadata": {
    "ExecuteTime": {
     "end_time": "2020-05-02T21:10:59.684682Z",
     "start_time": "2020-05-02T21:10:59.673302Z"
    }
   },
   "outputs": [
    {
     "name": "stdout",
     "output_type": "stream",
     "text": [
      "Hyperband MSE:  589.93017578125\n"
     ]
    }
   ],
   "source": [
    "print('Hyperband MSE: ', mse_hb)"
   ]
  },
  {
   "cell_type": "markdown",
   "metadata": {},
   "source": [
    "### Build, Run and Evaluate Bayesian Optimization Tuner"
   ]
  },
  {
   "cell_type": "code",
   "execution_count": 26,
   "metadata": {
    "ExecuteTime": {
     "end_time": "2020-05-02T21:11:38.827543Z",
     "start_time": "2020-05-02T21:11:38.179694Z"
    }
   },
   "outputs": [
    {
     "name": "stdout",
     "output_type": "stream",
     "text": [
      "WARNING:tensorflow:Unresolved object in checkpoint: (root).optimizer.iter\n",
      "WARNING:tensorflow:Unresolved object in checkpoint: (root).optimizer.decay\n",
      "WARNING:tensorflow:Unresolved object in checkpoint: (root).optimizer.learning_rate\n",
      "WARNING:tensorflow:Unresolved object in checkpoint: (root).optimizer.momentum\n",
      "WARNING:tensorflow:Unresolved object in checkpoint: (root).optimizer.rho\n",
      "WARNING:tensorflow:A checkpoint was restored (e.g. tf.train.Checkpoint.restore or tf.keras.Model.load_weights) but not all checkpointed values were used. See above for specific issues. Use expect_partial() on the load status object, e.g. tf.train.Checkpoint.restore(...).expect_partial(), to silence these warnings, or use assert_consumed() to make the check explicit. See https://www.tensorflow.org/guide/checkpoint#loading_mechanics for details.\n"
     ]
    },
    {
     "name": "stderr",
     "output_type": "stream",
     "text": [
      "C:\\Users\\17832020\\Anaconda3\\lib\\site-packages\\sklearn\\gaussian_process\\_gpr.py:201: RuntimeWarning: invalid value encountered in true_divide\n",
      "  y = (y - self._y_train_mean) / self._y_train_std\n",
      "C:\\Users\\17832020\\Anaconda3\\lib\\site-packages\\sklearn\\gaussian_process\\_gpr.py:201: RuntimeWarning: invalid value encountered in true_divide\n",
      "  y = (y - self._y_train_mean) / self._y_train_std\n",
      "C:\\Users\\17832020\\Anaconda3\\lib\\site-packages\\sklearn\\gaussian_process\\_gpr.py:201: RuntimeWarning: invalid value encountered in true_divide\n",
      "  y = (y - self._y_train_mean) / self._y_train_std\n",
      "C:\\Users\\17832020\\Anaconda3\\lib\\site-packages\\sklearn\\gaussian_process\\_gpr.py:201: RuntimeWarning: invalid value encountered in true_divide\n",
      "  y = (y - self._y_train_mean) / self._y_train_std\n"
     ]
    },
    {
     "name": "stdout",
     "output_type": "stream",
     "text": [
      "INFO:tensorflow:Oracle triggered exit\n",
      "4/4 [==============================] - 0s 2ms/step - loss: 433.0382 - mse: 433.0382\n"
     ]
    }
   ],
   "source": [
    "tuner_bo = BayesianOptimization(\n",
    "            hypermodel,\n",
    "            objective='mse',\n",
    "            max_trials=10,\n",
    "            seed=42,\n",
    "            executions_per_trial=2,\n",
    "            directory=os.path.normpath('D:/ML_Keras_Tuner/Tests/BayesianOptimization_test') # Own addition, removes error\n",
    "        )\n",
    "\n",
    "tuner_bo.search(x_train_scaled, y_train, epochs=10, validation_split=0.2, verbose=0)\n",
    "\n",
    "best_model = tuner_bo.get_best_models(num_models=1)[0]\n",
    "mse_bo = best_model.evaluate(x_test_scaled, y_test)[1]"
   ]
  },
  {
   "cell_type": "code",
   "execution_count": 27,
   "metadata": {
    "ExecuteTime": {
     "end_time": "2020-05-02T21:11:52.416840Z",
     "start_time": "2020-05-02T21:11:52.406188Z"
    }
   },
   "outputs": [
    {
     "name": "stdout",
     "output_type": "stream",
     "text": [
      "Bayesian Optimization MSE:  458.7108154296875\n"
     ]
    }
   ],
   "source": [
    "print('Bayesian Optimization MSE: ', mse_bo)"
   ]
  },
  {
   "cell_type": "code",
   "execution_count": null,
   "metadata": {},
   "outputs": [],
   "source": []
  }
 ],
 "metadata": {
  "kernelspec": {
   "display_name": "Python 3",
   "language": "python",
   "name": "python3"
  },
  "language_info": {
   "codemirror_mode": {
    "name": "ipython",
    "version": 3
   },
   "file_extension": ".py",
   "mimetype": "text/x-python",
   "name": "python",
   "nbconvert_exporter": "python",
   "pygments_lexer": "ipython3",
   "version": "3.8.5"
  }
 },
 "nbformat": 4,
 "nbformat_minor": 2
}
